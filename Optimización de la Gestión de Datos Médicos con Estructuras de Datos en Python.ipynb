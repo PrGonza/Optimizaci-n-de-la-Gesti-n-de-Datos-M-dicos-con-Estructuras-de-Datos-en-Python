{
 "cells": [
  {
   "cell_type": "markdown",
   "metadata": {},
   "source": [
    ".\t                                                                                                                            T.P GRUPAL\n"
   ]
  },
  {
   "cell_type": "markdown",
   "metadata": {},
   "source": [
    " 1 .La clase Paciente encapsula la información básica de cada paciente, como nombre, edad, y su historial médico (que almacena enfermedades y tratamientos asociados). La clase implementa métodos para añadir, modificar o eliminar enfermedades en el historial. Esto facilita la administración de datos médicos, permitiendo una gestión estructurada y organizada."
   ]
  },
  {
   "cell_type": "code",
   "execution_count": 1,
   "metadata": {},
   "outputs": [],
   "source": [
    "class Paciente:\n",
    "    def __init__(self, id_paciente, nombre, edad, historial):\n",
    "        self.id_paciente = id_paciente\n",
    "        self.nombre = nombre\n",
    "        self.edad = edad\n",
    "        self.historial = historial  # Diccionario con historial de enfermedades y medicamentos\n",
    "\n",
    "    def añadir_enfermedad(self, enfermedad, medicamento):\n",
    "        self.historial[enfermedad] = medicamento\n",
    "\n",
    "    def eliminar_enfermedad(self, enfermedad):\n",
    "        if enfermedad in self.historial:\n",
    "            del self.historial[enfermedad]\n",
    "\n",
    "    def modificar_enfermedad(self, enfermedad, medicamento):\n",
    "        self.historial[enfermedad] = medicamento\n",
    "\n",
    "    def mostrar_historial(self):\n",
    "        return self.historial\n"
   ]
  },
  {
   "cell_type": "code",
   "execution_count": null,
   "metadata": {},
   "outputs": [],
   "source": [
    "paciente1 = Paciente(1, \"Juan Pérez\", 30, {\"Diabetes\": \"Insulina\"})\n",
    "paciente2 = Paciente(2, \"María López\", 40, {\"Hipertensión\": \"Losartán\"})\n",
    "\n",
    "# Añadir y eliminar enfermedades\n",
    "paciente1.añadir_enfermedad(\"Colesterol\", \"Estatina\")\n",
    "paciente1.eliminar_enfermedad(\"Diabetes\")\n",
    "\n"
   ]
  },
  {
   "cell_type": "markdown",
   "metadata": {},
   "source": [
    "2. Estructuras Recursivas\n",
    "Para este trabajo, implementamos un algoritmo recursivo que busca enfermedades específicas en el historial de un paciente. Este método permite la búsqueda de manera eficiente, útil para consultas rápidas en bases de datos médicas."
   ]
  },
  {
   "cell_type": "code",
   "execution_count": null,
   "metadata": {},
   "outputs": [],
   "source": [
    "def buscar_enfermedad(historial, enfermedad):\n",
    "    if not historial:\n",
    "        return False\n",
    "    if enfermedad in historial:\n",
    "        return True\n",
    "    return buscar_enfermedad(historial[1:], enfermedad)\n",
    "# Imprimir historial\n",
    "print(f\"Historial del paciente {paciente1.nombre}: {paciente1.mostrar_historial()}\")\n",
    "print(f\"Historial del paciente {paciente2.nombre}: {paciente2.mostrar_historial()}\")"
   ]
  },
  {
   "cell_type": "markdown",
   "metadata": {},
   "source": [
    "3. Árboles Binarios de Búsqueda\n",
    "El uso de un árbol binario de búsqueda (BST) organiza pacientes por su id_paciente, lo que facilita la búsqueda y clasificación de pacientes en el sistema. Cada paciente se inserta en el árbol de manera que los menores quedan a la izquierda y los mayores a la derecha."
   ]
  },
  {
   "cell_type": "code",
   "execution_count": null,
   "metadata": {},
   "outputs": [],
   "source": [
    "class Nodo:\n",
    "    def __init__(self, paciente):\n",
    "        self.paciente = paciente\n",
    "        self.izquierda = None\n",
    "        self.derecha = None\n",
    "\n",
    "class ArbolPacientes:\n",
    "    def __init__(self):\n",
    "        self.raiz = None\n",
    "\n",
    "    def insertar(self, paciente):\n",
    "        if self.raiz is None:\n",
    "            self.raiz = Nodo(paciente)\n",
    "        else:\n",
    "            self._insertar(self.raiz, paciente)\n",
    "\n",
    "    def _insertar(self, nodo_actual, paciente):\n",
    "        if paciente.id_paciente < nodo_actual.paciente.id_paciente:\n",
    "            if nodo_actual.izquierda is None:\n",
    "                nodo_actual.izquierda = Nodo(paciente)\n",
    "            else:\n",
    "                self._insertar(nodo_actual.izquierda, paciente)\n",
    "        else:\n",
    "            if nodo_actual.derecha is None:\n",
    "                nodo_actual.derecha = Nodo(paciente)\n",
    "            else:\n",
    "                self._insertar(nodo_actual.derecha, paciente)\n",
    "\n",
    "    def imprimir_arbol(self, nodo):\n",
    "        if nodo:\n",
    "            self.imprimir_arbol(nodo.izquierda)\n",
    "            print(f\"ID: {nodo.paciente.id_paciente}, Nombre: {nodo.paciente.nombre}\")\n",
    "            self.imprimir_arbol(nodo.derecha)\n",
    "            \n",
    "# Crear el árbol y añadir pacientes\n",
    "arbol = ArbolPacientes()\n",
    "arbol.insertar(Paciente(3, \"Pedro Gómez\", 25, {}))\n",
    "arbol.insertar(Paciente(1, \"Juan Pérez\", 30, {}))\n",
    "arbol.insertar(Paciente(2, \"María López\", 40, {}))\n",
    "\n",
    "# Imprimir pacientes en orden\n",
    "print(\"Pacientes en el árbol binario ordenados por ID:\")\n",
    "arbol.imprimir_arbol(arbol.raiz)\n",
    "\n"
   ]
  },
  {
   "cell_type": "markdown",
   "metadata": {},
   "source": [
    "4. Árboles Generales\n",
    "Para estructurar el historial clínico de un paciente, utilizamos un árbol general donde cada nodo representa un evento médico. Esta estructura permite rastrear consultas, diagnósticos y tratamientos a lo largo del tiempo."
   ]
  },
  {
   "cell_type": "code",
   "execution_count": null,
   "metadata": {},
   "outputs": [],
   "source": [
    "class EventoMedico:\n",
    "    def __init__(self, nombre):\n",
    "        self.nombre = nombre\n",
    "        self.sub_eventos = []\n",
    "\n",
    "    def añadir_sub_evento(self, sub_evento):\n",
    "        self.sub_eventos.append(sub_evento)\n"
   ]
  },
  {
   "cell_type": "markdown",
   "metadata": {},
   "source": [
    "5. Cola de Prioridades y Heap Binaria\n",
    "La gestión de urgencias se organiza mediante una cola de prioridad, donde los pacientes más críticos son atendidos primero. Para esto, se utiliza un heap binario, permitiendo una gestión de urgencias eficiente."
   ]
  },
  {
   "cell_type": "code",
   "execution_count": null,
   "metadata": {},
   "outputs": [],
   "source": [
    "import heapq\n",
    "\n",
    "class GestionUrgencias:\n",
    "    def __init__(self):\n",
    "        self.cola_prioridad = []\n",
    "\n",
    "    def añadir_paciente(self, prioridad, paciente):\n",
    "        heapq.heappush(self.cola_prioridad, (prioridad, paciente))\n",
    "\n",
    "    def atender_paciente(self):\n",
    "        return heapq.heappop(self.cola_prioridad)\n"
   ]
  },
  {
   "cell_type": "markdown",
   "metadata": {},
   "source": [
    "6. Análisis de Algoritmos\n",
    "Cada estructura de datos y algoritmo utilizado se analizó para optimizar su eficiencia:\n",
    ".Árbol binario de búsqueda: permite una búsqueda y organización eficiente con complejidad promedio O(log n).\n",
    ".Cola de prioridad: basada en heaps, permite operaciones de inserción y eliminación en O(log n).\n",
    ".Búsqueda recursiva: en el peor caso es O(n) cuando se exploran datos linealmente."
   ]
  },
  {
   "cell_type": "markdown",
   "metadata": {},
   "source": [
    "Parte 2: Codificación y Algoritmos\n",
    "1. Grafos\n",
    "La red de hospitales se modela como un grafo, en el que los hospitales son nodos y las rutas de emergencia son aristas. Esto permite la representación de distancias y tiempos de transferencia."
   ]
  },
  {
   "cell_type": "code",
   "execution_count": null,
   "metadata": {},
   "outputs": [],
   "source": [
    "class GrafoHospitales:\n",
    "    def __init__(self):\n",
    "        self.grafo = {}\n",
    "\n",
    "    def añadir_hospital(self, hospital):\n",
    "        self.grafo[hospital] = []\n",
    "\n",
    "    def conectar_hospitales(self, hospital1, hospital2, distancia):\n",
    "        self.grafo[hospital1].append((hospital2, distancia))\n",
    "        self.grafo[hospital2].append((hospital1, distancia))\n"
   ]
  },
  {
   "cell_type": "markdown",
   "metadata": {},
   "source": [
    "2. Recorridos DFS y BFS\n",
    "Para transferencias urgentes de pacientes, se implementan los algoritmos DFS y BFS para encontrar las mejores rutas entre hospitales."
   ]
  },
  {
   "cell_type": "code",
   "execution_count": null,
   "metadata": {},
   "outputs": [],
   "source": [
    "def dfs(grafo, inicio, objetivo, visitado=None):\n",
    "    if visitado is None:\n",
    "        visitado = set()\n",
    "    visitado.add(inicio)\n",
    "    if inicio == objetivo:\n",
    "        return [inicio]\n",
    "    for (vecino, _) in grafo[inicio]:\n",
    "        if vecino not in visitado:\n",
    "            camino = dfs(grafo, vecino, objetivo, visitado)\n",
    "            if camino:\n",
    "                return [inicio] + camino\n",
    "    return None\n"
   ]
  },
  {
   "cell_type": "markdown",
   "metadata": {},
   "source": [
    "3. Ordenamiento Topológico\n",
    "Para los diagnósticos, el ordenamiento topológico organiza los pasos requeridos en diagnósticos complejos, asegurando que se cumplan las dependencias entre pruebas."
   ]
  },
  {
   "cell_type": "code",
   "execution_count": null,
   "metadata": {},
   "outputs": [],
   "source": [
    "def ordenamiento_topologico(grafo):\n",
    "    visitado = set()\n",
    "    orden = []\n",
    "\n",
    "    def dfs(nodo):\n",
    "        visitado.add(nodo)\n",
    "        for vecino in grafo.get(nodo, []):\n",
    "            if vecino not in visitado:\n",
    "                dfs(vecino)\n",
    "        orden.append(nodo)\n",
    "\n",
    "    for nodo in grafo:\n",
    "        if nodo not in visitado:\n",
    "            dfs(nodo)\n",
    "    return orden[::-1]\n"
   ]
  },
  {
   "cell_type": "markdown",
   "metadata": {},
   "source": [
    "4. Problemas NP y Camino Mínimo\n",
    "Para optimizar rutas de ambulancias, se implementa el algoritmo de Dijkstra, encontrando la ruta más rápida para traslados urgentes.\n",
    "\n",
    "python\n",
    "Copiar código\n"
   ]
  },
  {
   "cell_type": "code",
   "execution_count": null,
   "metadata": {},
   "outputs": [],
   "source": [
    "import heapq\n",
    "\n",
    "def dijkstra(grafo, inicio):\n",
    "    distancias = {nodo: float('inf') for nodo in grafo}\n",
    "    distancias[inicio] = 0\n",
    "    cola_prioridad = [(0, inicio)]\n",
    "\n",
    "    while cola_prioridad:\n",
    "        distancia_actual, nodo_actual = heapq.heappop(cola_prioridad)\n",
    "\n",
    "        if distancia_actual > distancias[nodo_actual]:\n",
    "            continue\n",
    "\n",
    "        for vecino, peso in grafo[nodo_actual]:\n",
    "            distancia = distancia_actual + peso\n",
    "\n",
    "            if distancia < distancias[vecino]:\n",
    "                distancias[vecino] = distancia\n",
    "                heapq.heappush(cola_prioridad, (distancia, vecino))\n",
    "    return distancias\n"
   ]
  },
  {
   "cell_type": "markdown",
   "metadata": {},
   "source": [
    "Conclusión\n",
    "Este trabajo aborda la organización y análisis de datos médicos mediante estructuras de datos en Python. Al aplicar árboles binarios, colas de prioridad y grafos, se logra una gestión eficaz, permitiendo una toma de decisiones más rápida y precisa en el ámbito médico."
   ]
  }
 ],
 "metadata": {
  "kernelspec": {
   "display_name": "Python 3",
   "language": "python",
   "name": "python3"
  },
  "language_info": {
   "codemirror_mode": {
    "name": "ipython",
    "version": 3
   },
   "file_extension": ".py",
   "mimetype": "text/x-python",
   "name": "python",
   "nbconvert_exporter": "python",
   "pygments_lexer": "ipython3",
   "version": "3.11.9"
  }
 },
 "nbformat": 4,
 "nbformat_minor": 2
}
